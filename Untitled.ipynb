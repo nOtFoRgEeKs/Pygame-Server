{
 "cells": [
  {
   "cell_type": "code",
   "execution_count": 1,
   "metadata": {
    "pycharm": {
     "is_executing": false
    }
   },
   "outputs": [],
   "source": [
    "import socket\n",
    "\n",
    "from protocol import ServerReply, ClientMessage, GameData\n",
    "from protocol import Command, Status"
   ]
  },
  {
   "cell_type": "code",
   "execution_count": 2,
   "metadata": {},
   "outputs": [],
   "source": [
    "class Network:\n",
    "    def __init__(self):\n",
    "        self.client = socket.socket(socket.AF_INET, socket.SOCK_STREAM)\n",
    "        self.server = '172.20.10.3'\n",
    "        self.port = 5555\n",
    "        self.addr = (self.server, self.port)\n",
    "        self.reply = self.connect()\n",
    "\n",
    "    def connect(self):\n",
    "        try:\n",
    "            self.client.connect(self.addr)\n",
    "        except socket.error as e:\n",
    "            print(e)\n",
    "        else:\n",
    "            return self.receive()\n",
    "\n",
    "    def send(self, data):\n",
    "        try:\n",
    "            self.client.send(ClientMessage.encode(data))\n",
    "        except socket.error as e:\n",
    "            print(e)\n",
    "            \n",
    "    def receive(self):\n",
    "        try:\n",
    "            return ServerReply.decode(self.client.recv(2048))\n",
    "        except socket.error as e:\n",
    "            print(e)"
   ]
  },
  {
   "cell_type": "code",
   "execution_count": 14,
   "metadata": {},
   "outputs": [
    {
     "data": {
      "text/plain": [
       "{'command': None, 'status': CONNECTION_SUCCESS, 'additional_info': 1001001, 'game_data_list': []}"
      ]
     },
     "execution_count": 14,
     "metadata": {},
     "output_type": "execute_result"
    }
   ],
   "source": [
    "player1 = Network()\n",
    "player1.reply"
   ]
  },
  {
   "cell_type": "code",
   "execution_count": 15,
   "metadata": {},
   "outputs": [
    {
     "data": {
      "text/plain": [
       "{'command': None, 'status': CONNECTION_SUCCESS, 'additional_info': 1001002, 'game_data_list': []}"
      ]
     },
     "execution_count": 15,
     "metadata": {},
     "output_type": "execute_result"
    }
   ],
   "source": [
    "player2 = Network()\n",
    "player2.reply"
   ]
  },
  {
   "cell_type": "code",
   "execution_count": 16,
   "metadata": {},
   "outputs": [
    {
     "data": {
      "text/plain": [
       "{'command': None, 'status': CONNECTION_SUCCESS, 'additional_info': 1001003, 'game_data_list': []}"
      ]
     },
     "execution_count": 16,
     "metadata": {},
     "output_type": "execute_result"
    }
   ],
   "source": [
    "player3 = Network()\n",
    "player3.reply"
   ]
  },
  {
   "cell_type": "code",
   "execution_count": 17,
   "metadata": {},
   "outputs": [],
   "source": [
    "gd1 = GameData()\n",
    "gd1.add_data(id=1, paddle_1='12',puck='13',paddle_2='14')\n",
    "\n",
    "gd2 = GameData()\n",
    "gd2.add_data(id=1, paddle_1='22',puck='23',paddle_2='24')\n",
    "\n",
    "gd3 = GameData()\n",
    "gd3.add_data(id=1, paddle_1='32',puck='33',paddle_2='34')"
   ]
  },
  {
   "cell_type": "code",
   "execution_count": 18,
   "metadata": {},
   "outputs": [
    {
     "data": {
      "text/plain": [
       "{'command': None, 'status': IN_LOBBY_WAITING, 'additional_info': None, 'game_data_list': [{'id': 1001001, 'role': HOST}]}"
      ]
     },
     "execution_count": 18,
     "metadata": {},
     "output_type": "execute_result"
    }
   ],
   "source": [
    "join_req1 = ClientMessage(command=Command.JOIN_LOBBY)\n",
    "player1.send(join_req1)\n",
    "reply = player1.receive()\n",
    "reply"
   ]
  },
  {
   "cell_type": "code",
   "execution_count": 19,
   "metadata": {},
   "outputs": [
    {
     "data": {
      "text/plain": [
       "{'command': None, 'status': IN_LOBBY_WAITING, 'additional_info': None, 'game_data_list': []}"
      ]
     },
     "execution_count": 19,
     "metadata": {},
     "output_type": "execute_result"
    }
   ],
   "source": [
    "player1.send(ClientMessage(command=Command.IS_LOBBY_READY))\n",
    "reply = player1.receive()\n",
    "reply"
   ]
  },
  {
   "cell_type": "code",
   "execution_count": 20,
   "metadata": {},
   "outputs": [
    {
     "data": {
      "text/plain": [
       "{'command': None, 'status': GAME_START, 'additional_info': None, 'game_data_list': [{'id': 1001002, 'role': NON_HOST}]}"
      ]
     },
     "execution_count": 20,
     "metadata": {},
     "output_type": "execute_result"
    }
   ],
   "source": [
    "join_req2 = ClientMessage(command=Command.JOIN_LOBBY)\n",
    "player2.send(join_req2)\n",
    "reply = player2.receive()\n",
    "reply"
   ]
  },
  {
   "cell_type": "code",
   "execution_count": 10,
   "metadata": {},
   "outputs": [],
   "source": [
    "join_req3 = ClientMessage(command=Command.JOIN_LOBBY)\n",
    "player3.send(join_req3)\n"
   ]
  },
  {
   "cell_type": "code",
   "execution_count": 11,
   "metadata": {},
   "outputs": [
    {
     "data": {
      "text/plain": [
       "{'command': None, 'status': GAME_START, 'additional_info': None, 'game_data_list': [{'id': 1001002, 'role': NON_HOST}]}"
      ]
     },
     "execution_count": 11,
     "metadata": {},
     "output_type": "execute_result"
    }
   ],
   "source": [
    "reply = player3.receive()\n",
    "reply"
   ]
  },
  {
   "cell_type": "code",
   "execution_count": null,
   "metadata": {},
   "outputs": [],
   "source": [
    "player1.send(ClientMessage(command=Command.POST, game_data=gd1))\n",
    "reply = player1.receive()\n",
    "reply"
   ]
  },
  {
   "cell_type": "code",
   "execution_count": null,
   "metadata": {},
   "outputs": [],
   "source": [
    "player1.send(ClientMessage(command=Command.GET))\n",
    "reply = player1.receive()\n",
    "reply"
   ]
  },
  {
   "cell_type": "code",
   "execution_count": 12,
   "metadata": {},
   "outputs": [
    {
     "data": {
      "text/plain": [
       "{'command': None, 'status': COMMAND_SUCCESS, 'additional_info': None, 'game_data_list': []}"
      ]
     },
     "execution_count": 12,
     "metadata": {},
     "output_type": "execute_result"
    }
   ],
   "source": [
    "player2.send(ClientMessage(command=Command.POST, game_data=gd2))\n",
    "reply = player2.receive()\n",
    "reply"
   ]
  },
  {
   "cell_type": "code",
   "execution_count": 13,
   "metadata": {},
   "outputs": [
    {
     "data": {
      "text/plain": [
       "{'command': None, 'status': COMMAND_SUCCESS, 'additional_info': None, 'game_data_list': []}"
      ]
     },
     "execution_count": 13,
     "metadata": {},
     "output_type": "execute_result"
    }
   ],
   "source": [
    "player2.send(ClientMessage(command=Command.GET))\n",
    "reply = player2.receive()\n",
    "reply"
   ]
  },
  {
   "cell_type": "code",
   "execution_count": null,
   "metadata": {},
   "outputs": [],
   "source": [
    "## getting the hostname by socket.gethostname() method\n",
    "hostname = socket.gethostname()\n",
    "## getting the IP address using socket.gethostbyname() method\n",
    "ip_address = socket.gethostbyname(hostname)\n",
    "## printing the hostname and ip_address\n",
    "print(f\"Hostname: {hostname}\")\n",
    "print(f\"IP Address: {ip_address}\")"
   ]
  },
  {
   "cell_type": "code",
   "execution_count": null,
   "metadata": {},
   "outputs": [],
   "source": []
  },
  {
   "cell_type": "code",
   "execution_count": null,
   "metadata": {},
   "outputs": [],
   "source": [
    "from logger import Logger\n",
    "import sys"
   ]
  },
  {
   "cell_type": "code",
   "execution_count": null,
   "metadata": {},
   "outputs": [],
   "source": [
    "l = Logger('a')"
   ]
  },
  {
   "cell_type": "code",
   "execution_count": null,
   "metadata": {},
   "outputs": [],
   "source": [
    "l.debug('q',1,2,[1,'a'])"
   ]
  },
  {
   "cell_type": "code",
   "execution_count": null,
   "metadata": {},
   "outputs": [],
   "source": [
    "print('asd',file=sys.stdout)"
   ]
  },
  {
   "cell_type": "code",
   "execution_count": null,
   "metadata": {},
   "outputs": [],
   "source": []
  }
 ],
 "metadata": {
  "kernelspec": {
   "display_name": "Python 3",
   "language": "python",
   "name": "python3"
  },
  "language_info": {
   "codemirror_mode": {
    "name": "ipython",
    "version": 3
   },
   "file_extension": ".py",
   "mimetype": "text/x-python",
   "name": "python",
   "nbconvert_exporter": "python",
   "pygments_lexer": "ipython3",
   "version": "3.8.3"
  }
 },
 "nbformat": 4,
 "nbformat_minor": 4
}
